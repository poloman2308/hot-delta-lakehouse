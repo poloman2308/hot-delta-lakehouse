{
 "cells": [
  {
   "cell_type": "code",
   "execution_count": 0,
   "metadata": {
    "application/vnd.databricks.v1+cell": {
     "cellMetadata": {
      "byteLimit": 2048000,
      "rowLimit": 10000
     },
     "inputWidgets": {},
     "nuid": "7800b4a8-fa5d-48c0-8c7f-bfc7098195aa",
     "showTitle": false,
     "tableResultSettingsMap": {},
     "title": ""
    }
   },
   "outputs": [
    {
     "output_type": "stream",
     "name": "stdout",
     "output_type": "stream",
     "text": [
      "✅ Gold table with hourly averages created at: dbfs:/delta/gold/sensor_hourly_avg\n"
     ]
    }
   ],
   "source": [
    "# COMMAND ----------\n",
    "\n",
    "from pyspark.sql.functions import avg, hour, to_timestamp\n",
    "\n",
    "silver_path = \"dbfs:/delta/silver/sensor_logs\"\n",
    "gold_path = \"dbfs:/delta/gold/sensor_hourly_avg\"\n",
    "\n",
    "# Read the cleaned Silver Delta table\n",
    "df_silver = spark.read.format(\"delta\").load(silver_path)\n",
    "\n",
    "# Convert timestamp if needed\n",
    "df_silver = df_silver.withColumn(\"timestamp\", to_timestamp(\"timestamp\"))\n",
    "\n",
    "# Calculate average temp/humidity by hour + location\n",
    "df_gold = df_silver.withColumn(\"hour\", hour(\"timestamp\")) \\\n",
    "    .groupBy(\"location\", \"hour\") \\\n",
    "    .agg(\n",
    "        avg(\"temperature\").alias(\"avg_temperature\"),\n",
    "        avg(\"humidity\").alias(\"avg_humidity\")\n",
    "    ) \\\n",
    "    .orderBy(\"location\", \"hour\")\n",
    "\n",
    "# Save Gold Delta table\n",
    "df_gold.write.format(\"delta\").mode(\"overwrite\").save(gold_path)\n",
    "\n",
    "print(\"✅ Gold table with hourly averages created at:\", gold_path)\n"
   ]
  },
  {
   "cell_type": "code",
   "execution_count": 0,
   "metadata": {
    "application/vnd.databricks.v1+cell": {
     "cellMetadata": {
      "byteLimit": 2048000,
      "rowLimit": 10000
     },
     "inputWidgets": {},
     "nuid": "f272a147-70c0-448b-b14a-6f9dbd02a243",
     "showTitle": false,
     "tableResultSettingsMap": {},
     "title": ""
    }
   },
   "outputs": [
    {
     "output_type": "display_data",
     "data": {
      "text/html": [
       "<style scoped>\n",
       "  .table-result-container {\n",
       "    max-height: 300px;\n",
       "    overflow: auto;\n",
       "  }\n",
       "  table, th, td {\n",
       "    border: 1px solid black;\n",
       "    border-collapse: collapse;\n",
       "  }\n",
       "  th, td {\n",
       "    padding: 5px;\n",
       "  }\n",
       "  th {\n",
       "    text-align: left;\n",
       "  }\n",
       "</style><div class='table-result-container'><table class='table-result'><thead style='background-color: white'><tr><th>location</th><th>hour</th><th>avg_temperature</th><th>avg_humidity</th></tr></thead><tbody><tr><td>Room_A</td><td>0</td><td>72.35609375000001</td><td>45.42554687500001</td></tr><tr><td>Room_B</td><td>0</td><td>71.35475409836063</td><td>45.330901639344276</td></tr><tr><td>Room_C</td><td>0</td><td>73.01111111111112</td><td>46.75547619047623</td></tr><tr><td>Room_D</td><td>0</td><td>72.27153225806454</td><td>45.692661290322555</td></tr></tbody></table></div>"
      ]
     },
     "metadata": {
      "application/vnd.databricks.v1+output": {
       "addedWidgets": {},
       "aggData": [],
       "aggError": "",
       "aggOverflow": false,
       "aggSchema": [],
       "aggSeriesLimitReached": false,
       "aggType": "",
       "arguments": {},
       "columnCustomDisplayInfos": {},
       "data": [
        [
         "Room_A",
         0,
         72.35609375000001,
         45.42554687500001
        ],
        [
         "Room_B",
         0,
         71.35475409836063,
         45.330901639344276
        ],
        [
         "Room_C",
         0,
         73.01111111111112,
         46.75547619047623
        ],
        [
         "Room_D",
         0,
         72.27153225806454,
         45.692661290322555
        ]
       ],
       "datasetInfos": [],
       "dbfsResultPath": null,
       "isJsonSchema": true,
       "metadata": {},
       "overflow": false,
       "plotOptions": {
        "customPlotOptions": {},
        "displayType": "table",
        "pivotAggregation": null,
        "pivotColumns": null,
        "xColumns": null,
        "yColumns": null
       },
       "removedWidgets": [],
       "schema": [
        {
         "metadata": "{}",
         "name": "location",
         "type": "\"string\""
        },
        {
         "metadata": "{}",
         "name": "hour",
         "type": "\"integer\""
        },
        {
         "metadata": "{}",
         "name": "avg_temperature",
         "type": "\"double\""
        },
        {
         "metadata": "{}",
         "name": "avg_humidity",
         "type": "\"double\""
        }
       ],
       "type": "table"
      }
     },
     "output_type": "display_data"
    }
   ],
   "source": [
    "display(spark.read.format(\"delta\").load(gold_path))\n"
   ]
  },
  {
   "cell_type": "code",
   "execution_count": 0,
   "metadata": {
    "application/vnd.databricks.v1+cell": {
     "cellMetadata": {
      "byteLimit": 2048000,
      "rowLimit": 10000
     },
     "inputWidgets": {},
     "nuid": "1422735c-33c5-4f0a-a9ec-16690b58621a",
     "showTitle": false,
     "tableResultSettingsMap": {},
     "title": ""
    }
   },
   "outputs": [
    {
     "output_type": "display_data",
     "data": {
      "text/html": [
       "<style scoped>\n",
       "  .table-result-container {\n",
       "    max-height: 300px;\n",
       "    overflow: auto;\n",
       "  }\n",
       "  table, th, td {\n",
       "    border: 1px solid black;\n",
       "    border-collapse: collapse;\n",
       "  }\n",
       "  th, td {\n",
       "    padding: 5px;\n",
       "  }\n",
       "  th {\n",
       "    text-align: left;\n",
       "  }\n",
       "</style><div class='table-result-container'><table class='table-result'><thead style='background-color: white'><tr><th>location</th><th>hour</th><th>avg_temperature</th><th>avg_humidity</th></tr></thead><tbody><tr><td>Room_A</td><td>0</td><td>72.35609375000001</td><td>45.42554687500001</td></tr><tr><td>Room_B</td><td>0</td><td>71.35475409836063</td><td>45.330901639344276</td></tr><tr><td>Room_C</td><td>0</td><td>73.01111111111112</td><td>46.75547619047623</td></tr><tr><td>Room_D</td><td>0</td><td>72.27153225806454</td><td>45.692661290322555</td></tr></tbody></table></div>"
      ]
     },
     "metadata": {
      "application/vnd.databricks.v1+output": {
       "addedWidgets": {},
       "aggData": [],
       "aggError": "",
       "aggOverflow": false,
       "aggSchema": [],
       "aggSeriesLimitReached": false,
       "aggType": "",
       "arguments": {},
       "columnCustomDisplayInfos": {},
       "data": [
        [
         "Room_A",
         0,
         72.35609375000001,
         45.42554687500001
        ],
        [
         "Room_B",
         0,
         71.35475409836063,
         45.330901639344276
        ],
        [
         "Room_C",
         0,
         73.01111111111112,
         46.75547619047623
        ],
        [
         "Room_D",
         0,
         72.27153225806454,
         45.692661290322555
        ]
       ],
       "datasetInfos": [],
       "dbfsResultPath": null,
       "isJsonSchema": true,
       "metadata": {},
       "overflow": false,
       "plotOptions": {
        "customPlotOptions": {},
        "displayType": "table",
        "pivotAggregation": null,
        "pivotColumns": null,
        "xColumns": null,
        "yColumns": null
       },
       "removedWidgets": [],
       "schema": [
        {
         "metadata": "{}",
         "name": "location",
         "type": "\"string\""
        },
        {
         "metadata": "{}",
         "name": "hour",
         "type": "\"integer\""
        },
        {
         "metadata": "{}",
         "name": "avg_temperature",
         "type": "\"double\""
        },
        {
         "metadata": "{}",
         "name": "avg_humidity",
         "type": "\"double\""
        }
       ],
       "type": "table"
      }
     },
     "output_type": "display_data"
    }
   ],
   "source": [
    "display(df_gold)\n"
   ]
  },
  {
   "cell_type": "code",
   "execution_count": 0,
   "metadata": {
    "application/vnd.databricks.v1+cell": {
     "cellMetadata": {
      "byteLimit": 2048000,
      "rowLimit": 10000
     },
     "inputWidgets": {},
     "nuid": "17562148-b633-450b-a9ad-0042e9bebbcf",
     "showTitle": false,
     "tableResultSettingsMap": {},
     "title": ""
    }
   },
   "outputs": [
    {
     "output_type": "stream",
     "name": "stdout",
     "output_type": "stream",
     "text": [
      "✅ Completed step at 2025-05-24 00:33:38\n"
     ]
    }
   ],
   "source": [
    "from datetime import datetime\n",
    "print(f\"✅ Completed step at {datetime.now().strftime('%Y-%m-%d %H:%M:%S')}\")\n"
   ]
  },
  {
   "cell_type": "code",
   "execution_count": 0,
   "metadata": {
    "application/vnd.databricks.v1+cell": {
     "cellMetadata": {
      "byteLimit": 2048000,
      "rowLimit": 10000
     },
     "inputWidgets": {},
     "nuid": "e0ab6f48-d2eb-41ba-be1b-d208f099cbad",
     "showTitle": false,
     "tableResultSettingsMap": {},
     "title": ""
    }
   },
   "outputs": [
    {
     "output_type": "stream",
     "name": "stdout",
     "output_type": "stream",
     "text": [
      "✅ Exported to: dbfs:/FileStore/gold_export/iot_gold_export.csv\n"
     ]
    }
   ],
   "source": [
    "# Step 1: Load and coalesce to 1 partition\n",
    "df_gold = spark.read.format(\"delta\").load(\"dbfs:/delta/gold/sensor_hourly_avg\")\n",
    "df_gold.coalesce(1).write.mode(\"overwrite\").option(\"header\", True).csv(\"dbfs:/FileStore/gold_export/tmp\")\n",
    "\n",
    "# Step 2: Use dbutils to find the part file and rename it\n",
    "files = dbutils.fs.ls(\"dbfs:/FileStore/gold_export/tmp\")\n",
    "\n",
    "# Find the part file\n",
    "part_file = [f.path for f in files if f.name.startswith(\"part-\") and f.name.endswith(\".csv\")]\n",
    "\n",
    "# Destination path\n",
    "final_path = \"dbfs:/FileStore/gold_export/iot_gold_export.csv\"\n",
    "\n",
    "if part_file:\n",
    "    # Delete destination if it already exists\n",
    "    try:\n",
    "        dbutils.fs.rm(final_path)\n",
    "    except:\n",
    "        pass  # File might not exist yet — ignore errors\n",
    "\n",
    "    # Move file to desired name\n",
    "    dbutils.fs.mv(part_file[0], final_path)\n",
    "    print(f\"✅ Exported to: {final_path}\")\n",
    "else:\n",
    "    print(\"❌ No CSV file found in /gold_export/tmp\")\n"
   ]
  },
  {
   "cell_type": "code",
   "execution_count": 0,
   "metadata": {
    "application/vnd.databricks.v1+cell": {
     "cellMetadata": {
      "byteLimit": 2048000,
      "rowLimit": 10000
     },
     "inputWidgets": {},
     "nuid": "238afa7f-9729-45b6-b110-82607b68112c",
     "showTitle": false,
     "tableResultSettingsMap": {},
     "title": ""
    }
   },
   "outputs": [
    {
     "output_type": "stream",
     "name": "stdout",
     "output_type": "stream",
     "text": [
      "Gold record count: 4\n"
     ]
    },
    {
     "output_type": "display_data",
     "data": {
      "text/html": [
       "<style scoped>\n",
       "  .table-result-container {\n",
       "    max-height: 300px;\n",
       "    overflow: auto;\n",
       "  }\n",
       "  table, th, td {\n",
       "    border: 1px solid black;\n",
       "    border-collapse: collapse;\n",
       "  }\n",
       "  th, td {\n",
       "    padding: 5px;\n",
       "  }\n",
       "  th {\n",
       "    text-align: left;\n",
       "  }\n",
       "</style><div class='table-result-container'><table class='table-result'><thead style='background-color: white'><tr><th>location</th><th>hour</th><th>avg_temperature</th><th>avg_humidity</th></tr></thead><tbody><tr><td>Room_A</td><td>0</td><td>72.35609375000001</td><td>45.42554687500001</td></tr><tr><td>Room_B</td><td>0</td><td>71.35475409836063</td><td>45.330901639344276</td></tr><tr><td>Room_C</td><td>0</td><td>73.01111111111112</td><td>46.75547619047623</td></tr><tr><td>Room_D</td><td>0</td><td>72.27153225806454</td><td>45.692661290322555</td></tr></tbody></table></div>"
      ]
     },
     "metadata": {
      "application/vnd.databricks.v1+output": {
       "addedWidgets": {},
       "aggData": [],
       "aggError": "",
       "aggOverflow": false,
       "aggSchema": [],
       "aggSeriesLimitReached": false,
       "aggType": "",
       "arguments": {},
       "columnCustomDisplayInfos": {},
       "data": [
        [
         "Room_A",
         0,
         72.35609375000001,
         45.42554687500001
        ],
        [
         "Room_B",
         0,
         71.35475409836063,
         45.330901639344276
        ],
        [
         "Room_C",
         0,
         73.01111111111112,
         46.75547619047623
        ],
        [
         "Room_D",
         0,
         72.27153225806454,
         45.692661290322555
        ]
       ],
       "datasetInfos": [],
       "dbfsResultPath": null,
       "isJsonSchema": true,
       "metadata": {},
       "overflow": false,
       "plotOptions": {
        "customPlotOptions": {},
        "displayType": "table",
        "pivotAggregation": null,
        "pivotColumns": null,
        "xColumns": null,
        "yColumns": null
       },
       "removedWidgets": [],
       "schema": [
        {
         "metadata": "{}",
         "name": "location",
         "type": "\"string\""
        },
        {
         "metadata": "{}",
         "name": "hour",
         "type": "\"integer\""
        },
        {
         "metadata": "{}",
         "name": "avg_temperature",
         "type": "\"double\""
        },
        {
         "metadata": "{}",
         "name": "avg_humidity",
         "type": "\"double\""
        }
       ],
       "type": "table"
      }
     },
     "output_type": "display_data"
    }
   ],
   "source": [
    "df_gold = spark.read.format(\"delta\").load(\"dbfs:/delta/gold/sensor_hourly_avg\")\n",
    "print(f\"Gold record count: {df_gold.count()}\")\n",
    "display(df_gold)\n",
    "\n"
   ]
  },
  {
   "cell_type": "code",
   "execution_count": 0,
   "metadata": {
    "application/vnd.databricks.v1+cell": {
     "cellMetadata": {},
     "inputWidgets": {},
     "nuid": "b8506ce3-3dce-4d7a-b5a0-e504d42b2805",
     "showTitle": false,
     "tableResultSettingsMap": {},
     "title": ""
    }
   },
   "outputs": [],
   "source": []
  }
 ],
 "metadata": {
  "application/vnd.databricks.v1+notebook": {
   "computePreferences": null,
   "dashboards": [],
   "environmentMetadata": {
    "base_environment": "",
    "environment_version": "1"
   },
   "inputWidgetPreferences": null,
   "language": "python",
   "notebookMetadata": {
    "pythonIndentUnit": 4
   },
   "notebookName": "Gold_Aggregate",
   "widgets": {}
  }
 },
 "nbformat": 4,
 "nbformat_minor": 0
}