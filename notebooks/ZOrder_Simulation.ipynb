{
 "cells": [
  {
   "cell_type": "code",
   "execution_count": 0,
   "metadata": {
    "application/vnd.databricks.v1+cell": {
     "cellMetadata": {
      "byteLimit": 2048000,
      "rowLimit": 10000
     },
     "inputWidgets": {},
     "nuid": "7ce3c5b1-f7d8-4daf-b0d2-4c89fc88792f",
     "showTitle": false,
     "tableResultSettingsMap": {},
     "title": ""
    }
   },
   "outputs": [
    {
     "output_type": "stream",
     "name": "stdout",
     "output_type": "stream",
     "text": [
      "✅ Simulated Z-Ordering by sorting and repartitioning on sensor_id, timestamp.\n"
     ]
    }
   ],
   "source": [
    "# COMMAND ----------\n",
    "\n",
    "silver_path = \"dbfs:/delta/silver/sensor_logs\"\n",
    "\n",
    "# Read the Silver Delta table\n",
    "df_silver = spark.read.format(\"delta\").load(silver_path)\n",
    "\n",
    "# Simulate Z-Ordering by sorting + repartitioning by sensor_id\n",
    "df_optimized = df_silver.sort(\"sensor_id\", \"timestamp\").repartition(\"sensor_id\")\n",
    "\n",
    "# Overwrite the Silver table with optimized file layout\n",
    "df_optimized.write.format(\"delta\").mode(\"overwrite\").save(silver_path)\n",
    "\n",
    "print(\"✅ Simulated Z-Ordering by sorting and repartitioning on sensor_id, timestamp.\")\n"
   ]
  },
  {
   "cell_type": "code",
   "execution_count": 0,
   "metadata": {
    "application/vnd.databricks.v1+cell": {
     "cellMetadata": {},
     "inputWidgets": {},
     "nuid": "afed6a13-f78e-4293-8e54-22f932cdf726",
     "showTitle": false,
     "tableResultSettingsMap": {},
     "title": ""
    }
   },
   "outputs": [],
   "source": []
  }
 ],
 "metadata": {
  "application/vnd.databricks.v1+notebook": {
   "computePreferences": null,
   "dashboards": [],
   "environmentMetadata": {
    "base_environment": "",
    "environment_version": "1"
   },
   "inputWidgetPreferences": null,
   "language": "python",
   "notebookMetadata": {
    "pythonIndentUnit": 4
   },
   "notebookName": "ZOrder_Simulation",
   "widgets": {}
  }
 },
 "nbformat": 4,
 "nbformat_minor": 0
}